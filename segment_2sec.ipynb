{
 "cells": [
  {
   "cell_type": "code",
   "execution_count": 4,
   "id": "fa5e75b3-4e4b-412e-ac15-d2b912ffe76e",
   "metadata": {},
   "outputs": [],
   "source": [
    "import torchaudio\n",
    "import librosa\n",
    "import soundfile as sf\n",
    "import os"
   ]
  },
  {
   "cell_type": "code",
   "execution_count": 5,
   "id": "37868594-fce0-4c43-9615-b782a529646d",
   "metadata": {},
   "outputs": [],
   "source": [
    "def split_audio_to_files(file_path_in:str, file_path_out:str, batch_duration:int = 2):\n",
    "    audio_duration = librosa.get_duration(path=file_path_in)\n",
    "    audio, sample_rate = sf.read(file_path_in)\n",
    "    start_duration = 0\n",
    "    idx = 0\n",
    "    while True:\n",
    "        end_duration = start_duration + batch_duration\n",
    "        is_stop = end_duration > audio_duration\n",
    "        if not is_stop:  \n",
    "            sf.write(file_path_out + '_'  + str(idx) + '.wav',\n",
    "                     audio[start_duration * sample_rate: end_duration * sample_rate], sample_rate)\n",
    "            start_duration = end_duration\n",
    "            idx += 1\n",
    "        else:\n",
    "            sf.write(file_path_out + '_' + str(idx) + '.wav', \n",
    "                     audio[start_duration * sample_rate:], sample_rate)\n",
    "            break\n",
    "        # end if\n",
    "    # end while\n",
    "# end split_audio_to_files"
   ]
  },
  {
   "cell_type": "code",
   "execution_count": 6,
   "id": "4ee5d5dc-6f76-4378-a513-54cd87ef7cbe",
   "metadata": {},
   "outputs": [
    {
     "name": "stdout",
     "output_type": "stream",
     "text": [
      "Rebetika_whole/test/Bithikotsis/Bithikotsis_sil_remov11.wavv10.wav\r"
     ]
    }
   ],
   "source": [
    "os.makedirs('Rebetika_2sec', exist_ok=True)\n",
    "for train_test in ['train', 'test']:\n",
    "    singers = os.listdir('Rebetika_whole/' + train_test + '/')\n",
    "    os.makedirs('Rebetika_2sec_full/' + train_test, exist_ok=True)\n",
    "    for singer in singers:\n",
    "        os.makedirs('Rebetika_2sec_full/' + train_test + '/' + singer, exist_ok=True)\n",
    "        songs = os.listdir('Rebetika_whole/' + train_test + '/' + singer)\n",
    "        for i, song in enumerate(songs):\n",
    "            if song[0] != '.': # avoid .DS_Store\n",
    "                print('Rebetika_whole/' + train_test + '/' + singer + '/' + song, end='\\r')\n",
    "                file_path_in = 'Rebetika_whole/' + train_test + '/' + singer + '/' + song\n",
    "                file_path_out = 'Rebetika_2sec_full/' + train_test + '/' + singer + '/' + song.split('.')[0]\n",
    "                split_audio_to_files(file_path_in, file_path_out, batch_duration=2)"
   ]
  }
 ],
 "metadata": {
  "kernelspec": {
   "display_name": "Python 3 (ipykernel)",
   "language": "python",
   "name": "python3"
  },
  "language_info": {
   "codemirror_mode": {
    "name": "ipython",
    "version": 3
   },
   "file_extension": ".py",
   "mimetype": "text/x-python",
   "name": "python",
   "nbconvert_exporter": "python",
   "pygments_lexer": "ipython3",
   "version": "3.12.1"
  }
 },
 "nbformat": 4,
 "nbformat_minor": 5
}
