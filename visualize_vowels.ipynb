{
 "cells": [
  {
   "cell_type": "code",
   "execution_count": 14,
   "id": "1e3edc13-488b-4257-b532-591a7e6a7645",
   "metadata": {},
   "outputs": [],
   "source": [
    "# https://ai.plainenglish.io/audio-data-music-genre-classification-8fe58cc9444e\n",
    "from transformers import AutoFeatureExtractor, AutoModelForAudioClassification, TrainingArguments\n",
    "import torchaudio\n",
    "import torchaudio.transforms as T\n",
    "import torch\n",
    "import numpy as np\n",
    "import os"
   ]
  },
  {
   "cell_type": "code",
   "execution_count": 15,
   "id": "90974018-3b0c-4d69-a199-72f2f9d9210d",
   "metadata": {},
   "outputs": [],
   "source": [
    "# model_id = \"ntu-spml/distilhubert\"\n",
    "model_path = 'distilhubert-finetuned-vowels_voice/checkpoint-420'\n",
    "feature_extractor = AutoFeatureExtractor.from_pretrained(\n",
    "    model_path, do_normalize=True, return_attention_mask=True\n",
    ")\n",
    "\n",
    "sampling_rate = feature_extractor.sampling_rate"
   ]
  },
  {
   "cell_type": "code",
   "execution_count": 16,
   "id": "3cd61283-1f7e-4d91-82fd-80826295cc1b",
   "metadata": {},
   "outputs": [
    {
     "data": {
      "text/plain": [
       "16000"
      ]
     },
     "execution_count": 16,
     "metadata": {},
     "output_type": "execute_result"
    }
   ],
   "source": [
    "sampling_rate = feature_extractor.sampling_rate\n",
    "sampling_rate"
   ]
  },
  {
   "cell_type": "code",
   "execution_count": 17,
   "id": "6c541172-6e0e-4710-a877-6e8e6b791782",
   "metadata": {},
   "outputs": [
    {
     "data": {
      "application/vnd.jupyter.widget-view+json": {
       "model_id": "0542d1b834e34188bf15ee03c6b4f524",
       "version_major": 2,
       "version_minor": 0
      },
      "text/plain": [
       "Resolving data files:   0%|          | 0/337 [00:00<?, ?it/s]"
      ]
     },
     "metadata": {},
     "output_type": "display_data"
    },
    {
     "data": {
      "application/vnd.jupyter.widget-view+json": {
       "model_id": "ff34071e19224404822a1d094e9bfb33",
       "version_major": 2,
       "version_minor": 0
      },
      "text/plain": [
       "Resolving data files:   0%|          | 0/49 [00:00<?, ?it/s]"
      ]
     },
     "metadata": {},
     "output_type": "display_data"
    },
    {
     "data": {
      "application/vnd.jupyter.widget-view+json": {
       "model_id": "88087de937aa46029df43835a05f64ed",
       "version_major": 2,
       "version_minor": 0
      },
      "text/plain": [
       "Resolving data files:   0%|          | 0/114 [00:00<?, ?it/s]"
      ]
     },
     "metadata": {},
     "output_type": "display_data"
    },
    {
     "data": {
      "application/vnd.jupyter.widget-view+json": {
       "model_id": "1169adedfceb4e84bd1d1c6223a846b5",
       "version_major": 2,
       "version_minor": 0
      },
      "text/plain": [
       "Resolving data files:   0%|          | 0/23 [00:00<?, ?it/s]"
      ]
     },
     "metadata": {},
     "output_type": "display_data"
    }
   ],
   "source": [
    "from datasets import load_dataset, Audio\n",
    "\n",
    "dataset = load_dataset('audiofolder', data_dir='Rebetika_vowels')\n",
    "dataset_whole = load_dataset('audiofolder', data_dir='Rebetika_whole')"
   ]
  },
  {
   "cell_type": "code",
   "execution_count": 18,
   "id": "58d387fb-d2ee-4073-8d6c-563be307f9f8",
   "metadata": {},
   "outputs": [],
   "source": [
    "# resample audio files to desired sample rate\n",
    "dataset = dataset.cast_column('audio', Audio(sampling_rate=sampling_rate))\n",
    "dataset_whole = dataset_whole.cast_column('audio', Audio(sampling_rate=sampling_rate))"
   ]
  },
  {
   "cell_type": "code",
   "execution_count": 19,
   "id": "49e0e894-292b-4e9c-847d-e52d4cf5fd48",
   "metadata": {},
   "outputs": [],
   "source": [
    "max_duration = 10.0\n",
    "\n",
    "def preprocess_function(examples):\n",
    "    audio_arrays = [x[\"array\"] for x in examples[\"audio\"]]\n",
    "    inputs = feature_extractor(\n",
    "        audio_arrays,\n",
    "        sampling_rate=feature_extractor.sampling_rate,\n",
    "        max_length=int(feature_extractor.sampling_rate * max_duration),\n",
    "        truncation=True,\n",
    "        return_attention_mask=True,\n",
    "    )\n",
    "    return inputs"
   ]
  },
  {
   "cell_type": "code",
   "execution_count": 20,
   "id": "a655705f-e88d-4bbc-8d75-a45b396bb5e7",
   "metadata": {},
   "outputs": [
    {
     "data": {
      "text/plain": [
       "DatasetDict({\n",
       "    train: Dataset({\n",
       "        features: ['label', 'input_values', 'attention_mask'],\n",
       "        num_rows: 337\n",
       "    })\n",
       "    test: Dataset({\n",
       "        features: ['label', 'input_values', 'attention_mask'],\n",
       "        num_rows: 49\n",
       "    })\n",
       "})"
      ]
     },
     "execution_count": 20,
     "metadata": {},
     "output_type": "execute_result"
    }
   ],
   "source": [
    "dataset_encoded = dataset.map(\n",
    "    preprocess_function,\n",
    "    remove_columns=['audio'],\n",
    "    batched=True,\n",
    "    batch_size=100,\n",
    "    num_proc=1,\n",
    ")\n",
    "dataset_encoded"
   ]
  },
  {
   "cell_type": "code",
   "execution_count": 21,
   "id": "6a85cff7-642e-4101-83c1-e144fd360590",
   "metadata": {},
   "outputs": [
    {
     "data": {
      "text/plain": [
       "Dataset({\n",
       "    features: ['label', 'input_values', 'attention_mask'],\n",
       "    num_rows: 337\n",
       "})"
      ]
     },
     "execution_count": 21,
     "metadata": {},
     "output_type": "execute_result"
    }
   ],
   "source": [
    "dataset_encoded['train']"
   ]
  },
  {
   "cell_type": "code",
   "execution_count": 22,
   "id": "872c904a-d353-4670-8f1a-56600b051e7c",
   "metadata": {},
   "outputs": [
    {
     "data": {
      "text/plain": [
       "DatasetDict({\n",
       "    train: Dataset({\n",
       "        features: ['label', 'input_values', 'attention_mask'],\n",
       "        num_rows: 114\n",
       "    })\n",
       "    test: Dataset({\n",
       "        features: ['label', 'input_values', 'attention_mask'],\n",
       "        num_rows: 23\n",
       "    })\n",
       "})"
      ]
     },
     "execution_count": 22,
     "metadata": {},
     "output_type": "execute_result"
    }
   ],
   "source": [
    "dataset_whole_encoded = dataset_whole.map(\n",
    "    preprocess_function,\n",
    "    remove_columns=['audio'],\n",
    "    batched=True,\n",
    "    batch_size=100,\n",
    "    num_proc=1,\n",
    ")\n",
    "dataset_whole_encoded"
   ]
  },
  {
   "cell_type": "code",
   "execution_count": 23,
   "id": "5a7f2b4a-efe3-4fd5-91ce-2548a713099c",
   "metadata": {},
   "outputs": [
    {
     "data": {
      "text/plain": [
       "'Tsaousakis'"
      ]
     },
     "execution_count": 23,
     "metadata": {},
     "output_type": "execute_result"
    }
   ],
   "source": [
    "id2label_fn = dataset['train'].features['label'].int2str\n",
    "id2label_fn(dataset['train'][-1]['label'])\n",
    "# for i in range(len(dataset['test'])):\n",
    "#     print(dataset['test'][i]['label'])"
   ]
  },
  {
   "cell_type": "code",
   "execution_count": 24,
   "id": "cab42f80-f372-4959-b573-ceabe00b6eef",
   "metadata": {},
   "outputs": [],
   "source": [
    "id2label = {\n",
    "    str(i): id2label_fn(i)\n",
    "    for i in range(len(dataset_encoded[\"train\"].features[\"label\"].names))\n",
    "}\n",
    "label2id = {v: k for k, v in id2label.items()}"
   ]
  },
  {
   "cell_type": "code",
   "execution_count": 25,
   "id": "91acbff9-20cb-4f55-afa1-2387d167b938",
   "metadata": {},
   "outputs": [
    {
     "data": {
      "text/plain": [
       "'Tsaousakis'"
      ]
     },
     "execution_count": 25,
     "metadata": {},
     "output_type": "execute_result"
    }
   ],
   "source": [
    "id2label['6']"
   ]
  },
  {
   "cell_type": "code",
   "execution_count": 26,
   "id": "699950d8-5531-4700-abf2-d310723e61e3",
   "metadata": {},
   "outputs": [],
   "source": [
    "num_labels = len(id2label)\n",
    "\n",
    "model = AutoModelForAudioClassification.from_pretrained(\n",
    "    model_path,\n",
    "    num_labels=num_labels,\n",
    "    label2id=label2id,\n",
    "    id2label=id2label,\n",
    ")"
   ]
  },
  {
   "cell_type": "code",
   "execution_count": 27,
   "id": "092f931a-4c6c-459c-994f-3e0b042bbb47",
   "metadata": {},
   "outputs": [
    {
     "name": "stdout",
     "output_type": "stream",
     "text": [
      "torch.Size([1, 9383])\n"
     ]
    }
   ],
   "source": [
    "t = torch.FloatTensor( dataset_encoded['train'][50]['input_values'] )\n",
    "tt = t.view(1, t.shape[0])\n",
    "print(tt.shape)"
   ]
  },
  {
   "cell_type": "code",
   "execution_count": 28,
   "id": "a8f69f2c-2123-4077-a380-19e483a251fc",
   "metadata": {},
   "outputs": [
    {
     "data": {
      "text/plain": [
       "HubertForSequenceClassification(\n",
       "  (hubert): HubertModel(\n",
       "    (feature_extractor): HubertFeatureEncoder(\n",
       "      (conv_layers): ModuleList(\n",
       "        (0): HubertGroupNormConvLayer(\n",
       "          (conv): Conv1d(1, 512, kernel_size=(10,), stride=(5,), bias=False)\n",
       "          (activation): GELUActivation()\n",
       "          (layer_norm): GroupNorm(512, 512, eps=1e-05, affine=True)\n",
       "        )\n",
       "        (1-4): 4 x HubertNoLayerNormConvLayer(\n",
       "          (conv): Conv1d(512, 512, kernel_size=(3,), stride=(2,), bias=False)\n",
       "          (activation): GELUActivation()\n",
       "        )\n",
       "        (5-6): 2 x HubertNoLayerNormConvLayer(\n",
       "          (conv): Conv1d(512, 512, kernel_size=(2,), stride=(2,), bias=False)\n",
       "          (activation): GELUActivation()\n",
       "        )\n",
       "      )\n",
       "    )\n",
       "    (feature_projection): HubertFeatureProjection(\n",
       "      (projection): Linear(in_features=512, out_features=768, bias=True)\n",
       "      (dropout): Dropout(p=0.0, inplace=False)\n",
       "    )\n",
       "    (encoder): HubertEncoder(\n",
       "      (pos_conv_embed): HubertPositionalConvEmbedding(\n",
       "        (conv): ParametrizedConv1d(\n",
       "          768, 768, kernel_size=(128,), stride=(1,), padding=(64,), groups=16\n",
       "          (parametrizations): ModuleDict(\n",
       "            (weight): ParametrizationList(\n",
       "              (0): _WeightNorm()\n",
       "            )\n",
       "          )\n",
       "        )\n",
       "        (padding): HubertSamePadLayer()\n",
       "        (activation): GELUActivation()\n",
       "      )\n",
       "      (layer_norm): LayerNorm((768,), eps=1e-05, elementwise_affine=True)\n",
       "      (dropout): Dropout(p=0.1, inplace=False)\n",
       "      (layers): ModuleList(\n",
       "        (0-1): 2 x HubertEncoderLayer(\n",
       "          (attention): HubertAttention(\n",
       "            (k_proj): Linear(in_features=768, out_features=768, bias=True)\n",
       "            (v_proj): Linear(in_features=768, out_features=768, bias=True)\n",
       "            (q_proj): Linear(in_features=768, out_features=768, bias=True)\n",
       "            (out_proj): Linear(in_features=768, out_features=768, bias=True)\n",
       "          )\n",
       "          (dropout): Dropout(p=0.1, inplace=False)\n",
       "          (layer_norm): LayerNorm((768,), eps=1e-05, elementwise_affine=True)\n",
       "          (feed_forward): HubertFeedForward(\n",
       "            (intermediate_dropout): Dropout(p=0.1, inplace=False)\n",
       "            (intermediate_dense): Linear(in_features=768, out_features=3072, bias=True)\n",
       "            (intermediate_act_fn): GELUActivation()\n",
       "            (output_dense): Linear(in_features=3072, out_features=768, bias=True)\n",
       "            (output_dropout): Dropout(p=0.1, inplace=False)\n",
       "          )\n",
       "          (final_layer_norm): LayerNorm((768,), eps=1e-05, elementwise_affine=True)\n",
       "        )\n",
       "      )\n",
       "    )\n",
       "  )\n",
       "  (projector): Linear(in_features=768, out_features=256, bias=True)\n",
       "  (classifier): Linear(in_features=256, out_features=7, bias=True)\n",
       ")"
      ]
     },
     "execution_count": 28,
     "metadata": {},
     "output_type": "execute_result"
    }
   ],
   "source": [
    "model.eval()"
   ]
  },
  {
   "cell_type": "code",
   "execution_count": 29,
   "id": "e4afecf0-bd2e-4621-be33-4a70a6dd93c3",
   "metadata": {},
   "outputs": [],
   "source": [
    "# run accuracy on test set\n",
    "test_results = []\n",
    "test_accuracy = []\n",
    "for datapoint in dataset_encoded['test']:\n",
    "    t = torch.FloatTensor( datapoint['input_values'] )\n",
    "    c = model( t.view(1, t.shape[0]) )['logits'].argmax()\n",
    "    test_results.append( c )\n",
    "    test_accuracy.append( c == datapoint['label'] )\n",
    "# test_results = np.array( test_arrays )\n",
    "# test_prediction = model(tt)\n",
    "# print(test_prediction['logits'].argmax())"
   ]
  },
  {
   "cell_type": "code",
   "execution_count": 30,
   "id": "3c329102-0fd5-477d-ba61-6de30eca8eae",
   "metadata": {},
   "outputs": [
    {
     "name": "stdout",
     "output_type": "stream",
     "text": [
      "test_accuracy:  0.8163265306122449\n"
     ]
    }
   ],
   "source": [
    "print('test_accuracy: ', np.sum(test_accuracy)/len(test_accuracy))"
   ]
  },
  {
   "cell_type": "code",
   "execution_count": 31,
   "id": "31e2fddf-2097-4904-a9d9-8edcb5d8c68c",
   "metadata": {},
   "outputs": [],
   "source": [
    "# run whole accuracy\n",
    "# run accuracy on test set\n",
    "whole_results = []\n",
    "whole_accuracy = []\n",
    "for train_test in ['train', 'test']:\n",
    "    for datapoint in dataset_whole_encoded[train_test]:\n",
    "        t = torch.FloatTensor( datapoint['input_values'] )\n",
    "        c = model( t.view(1, t.shape[0]) )['logits'].argmax()\n",
    "        whole_results.append( c )\n",
    "        whole_accuracy.append( c == datapoint['label'] )"
   ]
  },
  {
   "cell_type": "code",
   "execution_count": 32,
   "id": "d8908fba-a0a7-47a3-9170-34cf15e477d1",
   "metadata": {},
   "outputs": [
    {
     "name": "stdout",
     "output_type": "stream",
     "text": [
      "whole_accuracy:  0.656934306569343\n"
     ]
    }
   ],
   "source": [
    "print('whole_accuracy: ', np.sum(whole_accuracy)/len(whole_accuracy))"
   ]
  },
  {
   "cell_type": "code",
   "execution_count": 33,
   "id": "a36436a5-c570-4cd5-a339-e2dcbf6636ee",
   "metadata": {},
   "outputs": [
    {
     "name": "stdout",
     "output_type": "stream",
     "text": [
      "torch.Size([1, 29, 768])\n",
      "torch.Size([1, 29, 256])\n",
      "torch.Size([1, 256])\n",
      "(1, 256)\n"
     ]
    }
   ],
   "source": [
    "h = model.hubert( tt ).last_hidden_state\n",
    "print(h.shape) # (batch_size, sequence_length, hidden_size)\n",
    "p = model.projector( h )\n",
    "print(p.shape)\n",
    "f = p.mean(axis=1)\n",
    "print(f.shape)\n",
    "fp = f.detach().numpy()\n",
    "print(fp.shape)"
   ]
  },
  {
   "cell_type": "code",
   "execution_count": 34,
   "id": "97f6eabe-2099-49aa-896a-5cb915e39eeb",
   "metadata": {},
   "outputs": [],
   "source": [
    "def extract_hubert(d):\n",
    "    h = model.hubert( d ).last_hidden_state\n",
    "    p = model.projector( h )\n",
    "    f = p.mean(axis=1)\n",
    "    return f.detach().numpy()"
   ]
  },
  {
   "cell_type": "code",
   "execution_count": 35,
   "id": "12ea72d6-ff2c-4321-b04e-af4503d21021",
   "metadata": {},
   "outputs": [],
   "source": [
    "values = []\n",
    "file_names = []\n",
    "ids = {}\n",
    "idxs = {}\n",
    "ii = 0\n",
    "for train_test in ['train', 'test']:\n",
    "    ids[train_test] = []\n",
    "    idxs[train_test] = []\n",
    "    for i, datapoint in enumerate(dataset_encoded[train_test]):\n",
    "        t = torch.FloatTensor( datapoint['input_values'] )\n",
    "        values.append( extract_hubert( t.view(1, t.shape[0]) ) )\n",
    "        file_names.append( dataset[train_test]['audio'][i]['path'].split('/')[-1] )\n",
    "        ids[train_test].append( datapoint['label'] )\n",
    "        idxs[train_test].append( ii )\n",
    "        ii += 1"
   ]
  },
  {
   "cell_type": "code",
   "execution_count": 36,
   "id": "3d499431-bce3-4625-bfde-9b7b083b18e1",
   "metadata": {},
   "outputs": [
    {
     "name": "stdout",
     "output_type": "stream",
     "text": [
      "{'train': [0, 0, 0, 0, 0, 0, 0, 0, 0, 0, 0, 0, 0, 0, 0, 0, 0, 0, 0, 0, 0, 0, 0, 0, 0, 0, 0, 0, 1, 1, 1, 1, 1, 1, 1, 1, 1, 1, 1, 1, 1, 1, 1, 1, 1, 1, 1, 1, 1, 1, 1, 1, 1, 1, 1, 1, 1, 1, 1, 1, 2, 2, 2, 2, 2, 2, 2, 2, 2, 2, 2, 2, 2, 2, 2, 2, 2, 2, 2, 2, 2, 2, 2, 2, 2, 2, 2, 2, 2, 2, 2, 2, 2, 2, 2, 2, 2, 2, 2, 2, 2, 2, 2, 2, 2, 2, 2, 2, 3, 3, 3, 3, 3, 3, 3, 3, 3, 3, 3, 3, 3, 3, 3, 3, 3, 3, 3, 3, 3, 3, 3, 3, 3, 3, 3, 3, 3, 3, 3, 3, 3, 3, 3, 3, 3, 3, 3, 3, 3, 3, 3, 3, 3, 3, 3, 3, 3, 3, 3, 3, 3, 3, 3, 3, 3, 3, 3, 3, 3, 3, 3, 3, 3, 3, 3, 3, 3, 3, 4, 4, 4, 4, 4, 4, 4, 4, 4, 4, 4, 4, 4, 4, 4, 4, 4, 4, 4, 4, 4, 4, 4, 4, 4, 4, 4, 4, 4, 4, 4, 4, 4, 4, 4, 4, 4, 4, 4, 4, 4, 4, 4, 4, 4, 4, 4, 4, 4, 4, 4, 4, 4, 4, 5, 5, 5, 5, 5, 5, 5, 5, 5, 5, 5, 5, 5, 5, 5, 5, 5, 5, 5, 5, 5, 5, 5, 5, 5, 5, 5, 5, 6, 6, 6, 6, 6, 6, 6, 6, 6, 6, 6, 6, 6, 6, 6, 6, 6, 6, 6, 6, 6, 6, 6, 6, 6, 6, 6, 6, 6, 6, 6, 6, 6, 6, 6, 6, 6, 6, 6, 6, 6, 6, 6, 6, 6, 6, 6, 6, 6, 6, 6, 6, 6, 6, 6, 6, 6, 6, 6, 6, 6, 6, 6, 6, 6, 6, 6, 6, 6, 6, 6, 6, 6, 6, 6, 6, 6], 'test': [0, 0, 0, 0, 0, 1, 1, 1, 1, 1, 2, 2, 2, 2, 2, 2, 2, 3, 3, 3, 3, 3, 3, 3, 3, 3, 3, 4, 4, 4, 4, 4, 4, 5, 5, 5, 5, 5, 6, 6, 6, 6, 6, 6, 6, 6, 6, 6, 6]}\n",
      "['Bellou_a_2.mp3', 'Bellou_a_3.mp3', 'Bellou_a_4.mp3', 'Bellou_a_5.mp3', 'Bellou_a_6.mp3', 'Bellou_a_7.mp3', 'Bellou_a_8.mp3', 'Bellou_e_2.mp3', 'Bellou_e_3.mp3', 'Bellou_e_4.mp3', 'Bellou_e_5.mp3', 'Bellou_i_2.mp3', 'Bellou_i_3.mp3', 'Bellou_i_4.mp3', 'Bellou_i_5.mp3', 'Bellou_i_6.mp3', 'Bellou_i_7.mp3', 'Bellou_u_2.mp3', 'Bellou_u_3.mp3', 'Bellou_u_4.mp3', 'Bellou_u_5.mp3', 'Bellou_w_2.mp3', 'Bellou_w_3.mp3', 'Bellou_w_4.mp3', 'Bellou_w_5.mp3', 'Bellou_w_6.mp3', 'Bellou_w_7.mp3', 'Bellou_w_8.mp3', 'Bithikotsis_a_1.mp3', 'Bithikotsis_a_2.mp3', 'Bithikotsis_a_3.mp3', 'Bithikotsis_a_4.mp3', 'Bithikotsis_a_5.mp3', 'Bithikotsis_a_6.mp3', 'Bithikotsis_a_7.mp3', 'Bithikotsis_a_8.mp3', 'Bithikotsis_a_9.mp3', 'Bithikotsis_e_1.mp3', 'Bithikotsis_e_2.mp3', 'Bithikotsis_e_3.mp3', 'Bithikotsis_e_4.mp3', 'Bithikotsis_e_5.mp3', 'Bithikotsis_i_1.mp3', 'Bithikotsis_i_2.mp3', 'Bithikotsis_i_3.mp3', 'Bithikotsis_i_4.mp3', 'Bithikotsis_i_5.mp3', 'Bithikotsis_i_6.mp3', 'Bithikotsis_i_7.mp3', 'Bithikotsis_i_8.mp3', 'Bithikotsis_u_1.mp3', 'Bithikotsis_u_2.mp3', 'Bithikotsis_u_3.mp3', 'Bithikotsis_w_1.mp3', 'Bithikotsis_w_2.mp3', 'Bithikotsis_w_3.mp3', 'Bithikotsis_w_4.mp3', 'Bithikotsis_w_5.mp3', 'Bithikotsis_w_6.mp3', 'Bithikotsis_w_7.mp3', 'Keti_Grei_a_1.mp3', 'Keti_Grei_a_10.mp3', 'Keti_Grei_a_11.mp3', 'Keti_Grei_a_12.mp3', 'Keti_Grei_a_13.mp3', 'Keti_Grei_a_14.mp3', 'Keti_Grei_a_15.mp3', 'Keti_Grei_a_2.mp3', 'Keti_Grei_a_3.mp3', 'Keti_Grei_a_4.mp3', 'Keti_Grei_a_5.mp3', 'Keti_Grei_a_6.mp3', 'Keti_Grei_a_7.mp3', 'Keti_Grei_a_8.mp3', 'Keti_Grei_a_9.mp3', 'Keti_Grei_e_1.mp3', 'Keti_Grei_e_2.mp3', 'Keti_Grei_e_3.mp3', 'Keti_Grei_e_4.mp3', 'Keti_Grei_e_5.mp3', 'Keti_Grei_e_6.mp3', 'Keti_Grei_e_7.mp3', 'Keti_Grei_e_8.mp3', 'Keti_Grei_e_9.mp3', 'Keti_Grei_i_1.mp3', 'Keti_Grei_i_2.mp3', 'Keti_Grei_i_3.mp3', 'Keti_Grei_i_4.mp3', 'Keti_Grei_i_5.mp3', 'Keti_Grei_i_6.mp3', 'Keti_Grei_i_7.mp3', 'Keti_Grei_i_8.mp3', 'Keti_Grei_i_9.mp3', 'Keti_Grei_u_1.mp3', 'Keti_Grei_u_2.mp3', 'Keti_Grei_u_3.mp3', 'Keti_Grei_u_4.mp3', 'Keti_Grei_u_5.mp3', 'Keti_Grei_u_6.mp3', 'Keti_Grei_u_7.mp3', 'Keti_Grei_w_1.mp3', 'Keti_Grei_w_2.mp3', 'Keti_Grei_w_3.mp3', 'Keti_Grei_w_4.mp3', 'Keti_Grei_w_5.mp3', 'Keti_Grei_w_6.mp3', 'Keti_Grei_w_7.mp3', 'Keti_Grei_w_8.mp3', 'Kazantzidis_a_10.mp3', 'Kazantzidis_a_11.mp3', 'Kazantzidis_a_12.mp3', 'Kazantzidis_a_13.mp3', 'Kazantzidis_a_14.mp3', 'Kazantzidis_a_15.mp3', 'Kazantzidis_a_16.mp3', 'Kazantzidis_a_17.mp3', 'Kazantzidis_a_18.mp3', 'Kazantzidis_a_19.mp3', 'Kazantzidis_a_20.mp3', 'Kazantzidis_a_21.mp3', 'Kazantzidis_a_22.mp3', 'Kazantzidis_a_4.mp3', 'Kazantzidis_a_5.mp3', 'Kazantzidis_a_6.mp3', 'Kazantzidis_a_7.mp3', 'Kazantzidis_a_8.mp3', 'Kazantzidis_a_9.mp3', 'Kazantzidis_e_10.mp3', 'Kazantzidis_e_11.mp3', 'Kazantzidis_e_2.mp3', 'Kazantzidis_e_3.mp3', 'Kazantzidis_e_4.mp3', 'Kazantzidis_e_5.mp3', 'Kazantzidis_e_6.mp3', 'Kazantzidis_e_7.mp3', 'Kazantzidis_e_8.mp3', 'Kazantzidis_e_9.mp3', 'Kazantzidis_i_10.mp3', 'Kazantzidis_i_11.mp3', 'Kazantzidis_i_12.mp3', 'Kazantzidis_i_13.mp3', 'Kazantzidis_i_14.mp3', 'Kazantzidis_i_15.mp3', 'Kazantzidis_i_16.mp3', 'Kazantzidis_i_3.mp3', 'Kazantzidis_i_4.mp3', 'Kazantzidis_i_5.mp3', 'Kazantzidis_i_6.mp3', 'Kazantzidis_i_7.mp3', 'Kazantzidis_i_8.mp3', 'Kazantzidis_i_9.mp3', 'Kazantzidis_u_2.mp3', 'Kazantzidis_u_3.mp3', 'Kazantzidis_u_4.mp3', 'Kazantzidis_u_5.mp3', 'Kazantzidis_u_6.mp3', 'Kazantzidis_u_7.mp3', 'Kazantzidis_u_8.mp3', 'Kazantzidis_u_9.mp3', 'Kazantzidis_w_10.mp3', 'Kazantzidis_w_11.mp3', 'Kazantzidis_w_12.mp3', 'Kazantzidis_w_13.mp3', 'Kazantzidis_w_14.mp3', 'Kazantzidis_w_15.mp3', 'Kazantzidis_w_16.mp3', 'Kazantzidis_w_17.mp3', 'Kazantzidis_w_18.mp3', 'Kazantzidis_w_19.mp3', 'Kazantzidis_w_20.mp3', 'Kazantzidis_w_21.mp3', 'Kazantzidis_w_22.mp3', 'Kazantzidis_w_4.mp3', 'Kazantzidis_w_5.mp3', 'Kazantzidis_w_6.mp3', 'Kazantzidis_w_7.mp3', 'Kazantzidis_w_8.mp3', 'Kazantzidis_w_9.mp3', 'kazantzidis_old_a_10.mp3', 'kazantzidis_old_a_11.mp3', 'kazantzidis_old_a_12.mp3', 'kazantzidis_old_a_13.mp3', 'kazantzidis_old_a_14.mp3', 'kazantzidis_old_a_15.mp3', 'kazantzidis_old_a_3.mp3', 'kazantzidis_old_a_4.mp3', 'kazantzidis_old_a_5.mp3', 'kazantzidis_old_a_6.mp3', 'kazantzidis_old_a_7.mp3', 'kazantzidis_old_a_8.mp3', 'kazantzidis_old_a_9.mp3', 'kazantzidis_old_e_10.mp3', 'kazantzidis_old_e_11.mp3', 'kazantzidis_old_e_2.mp3', 'kazantzidis_old_e_3.mp3', 'kazantzidis_old_e_4.mp3', 'kazantzidis_old_e_5.mp3', 'kazantzidis_old_e_6.mp3', 'kazantzidis_old_e_7.mp3', 'kazantzidis_old_e_8.mp3', 'kazantzidis_old_e_9.mp3', 'kazantzidis_old_i_10.mp3', 'kazantzidis_old_i_11.mp3', 'kazantzidis_old_i_2.mp3', 'kazantzidis_old_i_3.mp3', 'kazantzidis_old_i_4.mp3', 'kazantzidis_old_i_5.mp3', 'kazantzidis_old_i_6.mp3', 'kazantzidis_old_i_7.mp3', 'kazantzidis_old_i_8.mp3', 'kazantzidis_old_i_9.mp3', 'kazantzidis_old_u_10.mp3', 'kazantzidis_old_u_11.mp3', 'kazantzidis_old_u_2.mp3', 'kazantzidis_old_u_3.mp3', 'kazantzidis_old_u_4.mp3', 'kazantzidis_old_u_5.mp3', 'kazantzidis_old_u_6.mp3', 'kazantzidis_old_u_7.mp3', 'kazantzidis_old_u_8.mp3', 'kazantzidis_old_u_9.mp3', 'kazantzidis_old_w_10.mp3', 'kazantzidis_old_w_11.mp3', 'kazantzidis_old_w_12.mp3', 'kazantzidis_old_w_2.mp3', 'kazantzidis_old_w_3.mp3', 'kazantzidis_old_w_4.mp3', 'kazantzidis_old_w_5.mp3', 'kazantzidis_old_w_6.mp3', 'kazantzidis_old_w_7.mp3', 'kazantzidis_old_w_8.mp3', 'kazantzidis_old_w_9.mp3', 'Ninou_a_2.mp3', 'Ninou_a_3.mp3', 'Ninou_a_4.mp3', 'Ninou_a_5.mp3', 'Ninou_a_6.mp3', 'Ninou_a_7.mp3', 'Ninou_a_8.mp3', 'Ninou_e_2.mp3', 'Ninou_e_3.mp3', 'Ninou_e_4.mp3', 'Ninou_e_5.mp3', 'Ninou_i_2.mp3', 'Ninou_i_3.mp3', 'Ninou_i_4.mp3', 'Ninou_i_5.mp3', 'Ninou_i_6.mp3', 'Ninou_u_2.mp3', 'Ninou_u_3.mp3', 'Ninou_u_4.mp3', 'Ninou_u_5.mp3', 'Ninou_w_2.mp3', 'Ninou_w_3.mp3', 'Ninou_w_4.mp3', 'Ninou_w_5.mp3', 'Ninou_w_6.mp3', 'Ninou_w_7.mp3', 'Ninou_w_8.mp3', 'Ninou_w_9.mp3', 'Tsaousakis_a_10.mp3', 'Tsaousakis_a_11.mp3', 'Tsaousakis_a_12.mp3', 'Tsaousakis_a_13.mp3', 'Tsaousakis_a_14.mp3', 'Tsaousakis_a_15.mp3', 'Tsaousakis_a_16.mp3', 'Tsaousakis_a_17.mp3', 'Tsaousakis_a_18.mp3', 'Tsaousakis_a_19.mp3', 'Tsaousakis_a_20.mp3', 'Tsaousakis_a_21.mp3', 'Tsaousakis_a_22.mp3', 'Tsaousakis_a_23.mp3', 'Tsaousakis_a_24.mp3', 'Tsaousakis_a_4.mp3', 'Tsaousakis_a_5.mp3', 'Tsaousakis_a_6.mp3', 'Tsaousakis_a_7.mp3', 'Tsaousakis_a_8.mp3', 'Tsaousakis_a_9.mp3', 'Tsaousakis_e_10.mp3', 'Tsaousakis_e_11.mp3', 'Tsaousakis_e_12.mp3', 'Tsaousakis_e_13.mp3', 'Tsaousakis_e_3.mp3', 'Tsaousakis_e_4.mp3', 'Tsaousakis_e_5.mp3', 'Tsaousakis_e_6.mp3', 'Tsaousakis_e_7.mp3', 'Tsaousakis_e_8.mp3', 'Tsaousakis_e_9.mp3', 'Tsaousakis_i_10.mp3', 'Tsaousakis_i_11.mp3', 'Tsaousakis_i_12.mp3', 'Tsaousakis_i_13.mp3', 'Tsaousakis_i_14.mp3', 'Tsaousakis_i_15.mp3', 'Tsaousakis_i_16.mp3', 'Tsaousakis_i_17.mp3', 'Tsaousakis_i_18.mp3', 'Tsaousakis_i_19.mp3', 'Tsaousakis_i_20.mp3', 'Tsaousakis_i_21.mp3', 'Tsaousakis_i_22.mp3', 'Tsaousakis_i_23.mp3', 'Tsaousakis_i_24.mp3', 'Tsaousakis_i_4.mp3', 'Tsaousakis_i_5.mp3', 'Tsaousakis_i_6.mp3', 'Tsaousakis_i_7.mp3', 'Tsaousakis_i_8.mp3', 'Tsaousakis_i_9.mp3', 'Tsaousakis_u_10.mp3', 'Tsaousakis_u_2.mp3', 'Tsaousakis_u_3.mp3', 'Tsaousakis_u_4.mp3', 'Tsaousakis_u_5.mp3', 'Tsaousakis_u_6.mp3', 'Tsaousakis_u_7.mp3', 'Tsaousakis_u_8.mp3', 'Tsaousakis_u_9.mp3', 'Tsaousakis_w_10.mp3', 'Tsaousakis_w_11.mp3', 'Tsaousakis_w_12.mp3', 'Tsaousakis_w_13.mp3', 'Tsaousakis_w_14.mp3', 'Tsaousakis_w_15.mp3', 'Tsaousakis_w_16.mp3', 'Tsaousakis_w_17.mp3', 'Tsaousakis_w_3.mp3', 'Tsaousakis_w_4.mp3', 'Tsaousakis_w_5.mp3', 'Tsaousakis_w_6.mp3', 'Tsaousakis_w_7.mp3', 'Tsaousakis_w_8.mp3', 'Tsaousakis_w_9.mp3', 'Bellou_a_1.mp3', 'Bellou_e_1.mp3', 'Bellou_i_1.mp3', 'Bellou_u_1.mp3', 'Bellou_w_1.mp3', 'Bithikotsis_a_10.mp3', 'Bithikotsis_e_6.mp3', 'Bithikotsis_i_9.mp3', 'Bithikotsis_u_4.mp3', 'Bithikotsis_w_8.mp3', 'Keti_Grei_a_16.mp3', 'Keti_Grei_a_17.mp3', 'Keti_Grei_e_10.mp3', 'Keti_Grei_e_11.mp3', 'Keti_Grei_i_10.mp3', 'Keti_Grei_u_8.mp3', 'Keti_Grei_w_9.mp3', 'Kazantzidis_a_1.mp3', 'Kazantzidis_a_2.mp3', 'Kazantzidis_a_3.mp3', 'Kazantzidis_e_1.mp3', 'Kazantzidis_i_1.mp3', 'Kazantzidis_i_2.mp3', 'Kazantzidis_u_1.mp3', 'Kazantzidis_w_1.mp3', 'Kazantzidis_w_2.mp3', 'Kazantzidis_w_3.mp3', 'kazantzidis_old_a_1.mp3', 'kazantzidis_old_a_2.mp3', 'kazantzidis_old_e_1.mp3', 'kazantzidis_old_i_1.mp3', 'kazantzidis_old_u_1.mp3', 'kazantzidis_old_w_1.mp3', 'Ninou_a_1.mp3', 'Ninou_e_1.mp3', 'Ninou_i_1.mp3', 'Ninou_u_1.mp3', 'Ninou_w_1.mp3', 'Tsaousakis_a_1.mp3', 'Tsaousakis_a_2.mp3', 'Tsaousakis_a_3.mp3', 'Tsaousakis_e_1.mp3', 'Tsaousakis_e_2.mp3', 'Tsaousakis_i_1.mp3', 'Tsaousakis_i_2.mp3', 'Tsaousakis_i_3.mp3', 'Tsaousakis_u_1.mp3', 'Tsaousakis_w_1.mp3', 'Tsaousakis_w_2.mp3']\n"
     ]
    }
   ],
   "source": [
    "print(ids)\n",
    "print(file_names)"
   ]
  },
  {
   "cell_type": "code",
   "execution_count": 37,
   "id": "4c3de892-5486-4661-a953-6f11d0a7da4d",
   "metadata": {},
   "outputs": [],
   "source": [
    "values_np = np.array(values).squeeze()"
   ]
  },
  {
   "cell_type": "code",
   "execution_count": 38,
   "id": "fc0c7c8f-542f-4d3d-abd5-e2aeaae9a16f",
   "metadata": {},
   "outputs": [
    {
     "name": "stdout",
     "output_type": "stream",
     "text": [
      "(386, 256)\n"
     ]
    }
   ],
   "source": [
    "print(values_np.shape)"
   ]
  },
  {
   "cell_type": "code",
   "execution_count": 39,
   "id": "028f6be1-9d7b-4c2b-8da9-c6d607ef1282",
   "metadata": {},
   "outputs": [],
   "source": [
    "from sklearn.manifold import TSNE\n",
    "from sklearn.decomposition import PCA"
   ]
  },
  {
   "cell_type": "code",
   "execution_count": 54,
   "id": "bf071a8c-5fb7-4de0-b2d7-fb853a3ceb8d",
   "metadata": {},
   "outputs": [],
   "source": [
    "X_embedded = TSNE(n_components=2, learning_rate='auto', init='random', perplexity=10).fit_transform(values_np)"
   ]
  },
  {
   "cell_type": "code",
   "execution_count": 55,
   "id": "53a4f6ba-257c-4470-8bad-0905c7ab4ea1",
   "metadata": {},
   "outputs": [
    {
     "name": "stdout",
     "output_type": "stream",
     "text": [
      "explained ratio: [0.42063344 0.26611787 0.17163274]  - total:  0.858384\n"
     ]
    }
   ],
   "source": [
    "pca = PCA(n_components=3)\n",
    "X_PCA = pca.fit_transform(values_np)\n",
    "print('explained ratio:', pca.explained_variance_ratio_, ' - total: ', np.sum( pca.explained_variance_ratio_ ))"
   ]
  },
  {
   "cell_type": "code",
   "execution_count": 56,
   "id": "2f3e9a0e-e2e3-4747-9bd3-c257b3dfbd84",
   "metadata": {},
   "outputs": [
    {
     "name": "stdout",
     "output_type": "stream",
     "text": [
      "(386, 2)\n",
      "386\n",
      "(386, 3)\n"
     ]
    }
   ],
   "source": [
    "print(X_embedded.shape)\n",
    "print(len(file_names))\n",
    "tmp_dict = {\n",
    "    'names': file_names,\n",
    "    'x': X_embedded[:,0],\n",
    "    'y': X_embedded[:,1]\n",
    "}\n",
    "print(X_PCA.shape)\n",
    "tmp_dict_PCA = {\n",
    "    'names': file_names,\n",
    "    'x': X_PCA[:,0],\n",
    "    'y': X_PCA[:,1],\n",
    "    'z': X_PCA[:,2]\n",
    "}"
   ]
  },
  {
   "cell_type": "code",
   "execution_count": 57,
   "id": "c8d35d07-953a-4830-9c73-b449d2a5343b",
   "metadata": {},
   "outputs": [],
   "source": [
    "import pandas as pd\n",
    "tmp_df = pd.DataFrame(tmp_dict)\n",
    "tmp_def = tmp_df.set_index('names', inplace=True)\n",
    "tmp_df_PCA = pd.DataFrame(tmp_dict_PCA)\n",
    "tmp_def_PCA = tmp_df_PCA.set_index('names', inplace=True)"
   ]
  },
  {
   "cell_type": "code",
   "execution_count": 58,
   "id": "e27c5162-ebaf-4c71-a76e-33de93b7484f",
   "metadata": {},
   "outputs": [
    {
     "data": {
      "text/html": [
       "<div>\n",
       "<style scoped>\n",
       "    .dataframe tbody tr th:only-of-type {\n",
       "        vertical-align: middle;\n",
       "    }\n",
       "\n",
       "    .dataframe tbody tr th {\n",
       "        vertical-align: top;\n",
       "    }\n",
       "\n",
       "    .dataframe thead th {\n",
       "        text-align: right;\n",
       "    }\n",
       "</style>\n",
       "<table border=\"1\" class=\"dataframe\">\n",
       "  <thead>\n",
       "    <tr style=\"text-align: right;\">\n",
       "      <th></th>\n",
       "      <th>x</th>\n",
       "      <th>y</th>\n",
       "    </tr>\n",
       "    <tr>\n",
       "      <th>names</th>\n",
       "      <th></th>\n",
       "      <th></th>\n",
       "    </tr>\n",
       "  </thead>\n",
       "  <tbody>\n",
       "    <tr>\n",
       "      <th>Bellou_a_2.mp3</th>\n",
       "      <td>-14.817413</td>\n",
       "      <td>20.026058</td>\n",
       "    </tr>\n",
       "    <tr>\n",
       "      <th>Bellou_a_3.mp3</th>\n",
       "      <td>-3.780164</td>\n",
       "      <td>-54.827621</td>\n",
       "    </tr>\n",
       "    <tr>\n",
       "      <th>Bellou_a_4.mp3</th>\n",
       "      <td>-0.915239</td>\n",
       "      <td>-53.741947</td>\n",
       "    </tr>\n",
       "    <tr>\n",
       "      <th>Bellou_a_5.mp3</th>\n",
       "      <td>-2.516448</td>\n",
       "      <td>-53.745823</td>\n",
       "    </tr>\n",
       "    <tr>\n",
       "      <th>Bellou_a_6.mp3</th>\n",
       "      <td>-3.812072</td>\n",
       "      <td>-50.352226</td>\n",
       "    </tr>\n",
       "  </tbody>\n",
       "</table>\n",
       "</div>"
      ],
      "text/plain": [
       "                        x          y\n",
       "names                               \n",
       "Bellou_a_2.mp3 -14.817413  20.026058\n",
       "Bellou_a_3.mp3  -3.780164 -54.827621\n",
       "Bellou_a_4.mp3  -0.915239 -53.741947\n",
       "Bellou_a_5.mp3  -2.516448 -53.745823\n",
       "Bellou_a_6.mp3  -3.812072 -50.352226"
      ]
     },
     "execution_count": 58,
     "metadata": {},
     "output_type": "execute_result"
    }
   ],
   "source": [
    "tmp_df.head()"
   ]
  },
  {
   "cell_type": "code",
   "execution_count": 59,
   "id": "c3bf4694-acbd-495e-a0d7-cb299a716fe9",
   "metadata": {},
   "outputs": [
    {
     "data": {
      "text/html": [
       "<div>\n",
       "<style scoped>\n",
       "    .dataframe tbody tr th:only-of-type {\n",
       "        vertical-align: middle;\n",
       "    }\n",
       "\n",
       "    .dataframe tbody tr th {\n",
       "        vertical-align: top;\n",
       "    }\n",
       "\n",
       "    .dataframe thead th {\n",
       "        text-align: right;\n",
       "    }\n",
       "</style>\n",
       "<table border=\"1\" class=\"dataframe\">\n",
       "  <thead>\n",
       "    <tr style=\"text-align: right;\">\n",
       "      <th></th>\n",
       "      <th>x</th>\n",
       "      <th>y</th>\n",
       "      <th>z</th>\n",
       "    </tr>\n",
       "    <tr>\n",
       "      <th>names</th>\n",
       "      <th></th>\n",
       "      <th></th>\n",
       "      <th></th>\n",
       "    </tr>\n",
       "  </thead>\n",
       "  <tbody>\n",
       "    <tr>\n",
       "      <th>Bellou_a_2.mp3</th>\n",
       "      <td>2.236056</td>\n",
       "      <td>-6.705590</td>\n",
       "      <td>-4.355881</td>\n",
       "    </tr>\n",
       "    <tr>\n",
       "      <th>Bellou_a_3.mp3</th>\n",
       "      <td>7.544067</td>\n",
       "      <td>-0.588950</td>\n",
       "      <td>-0.268951</td>\n",
       "    </tr>\n",
       "    <tr>\n",
       "      <th>Bellou_a_4.mp3</th>\n",
       "      <td>7.945791</td>\n",
       "      <td>-0.237960</td>\n",
       "      <td>-2.450706</td>\n",
       "    </tr>\n",
       "    <tr>\n",
       "      <th>Bellou_a_5.mp3</th>\n",
       "      <td>8.613728</td>\n",
       "      <td>-1.355972</td>\n",
       "      <td>-2.128227</td>\n",
       "    </tr>\n",
       "    <tr>\n",
       "      <th>Bellou_a_6.mp3</th>\n",
       "      <td>9.812187</td>\n",
       "      <td>0.691088</td>\n",
       "      <td>-1.125031</td>\n",
       "    </tr>\n",
       "  </tbody>\n",
       "</table>\n",
       "</div>"
      ],
      "text/plain": [
       "                       x         y         z\n",
       "names                                       \n",
       "Bellou_a_2.mp3  2.236056 -6.705590 -4.355881\n",
       "Bellou_a_3.mp3  7.544067 -0.588950 -0.268951\n",
       "Bellou_a_4.mp3  7.945791 -0.237960 -2.450706\n",
       "Bellou_a_5.mp3  8.613728 -1.355972 -2.128227\n",
       "Bellou_a_6.mp3  9.812187  0.691088 -1.125031"
      ]
     },
     "execution_count": 59,
     "metadata": {},
     "output_type": "execute_result"
    }
   ],
   "source": [
    "tmp_df_PCA.head()"
   ]
  },
  {
   "cell_type": "code",
   "execution_count": 60,
   "id": "ae45f352-4c89-4cd2-888d-0cc4efc89a6a",
   "metadata": {},
   "outputs": [],
   "source": [
    "tmp_df.to_csv('features/vowels_coordinates.csv')\n",
    "tmp_df_PCA.to_csv('features/vowels_PCA_coordinates.csv')"
   ]
  },
  {
   "cell_type": "code",
   "execution_count": 61,
   "id": "3a6fa675-7f2c-424d-a8db-9eb2da779132",
   "metadata": {},
   "outputs": [],
   "source": [
    "import matplotlib.pyplot as plt"
   ]
  },
  {
   "cell_type": "code",
   "execution_count": 62,
   "id": "d5e675e7-2f3b-42ee-8a91-e55e87c21b70",
   "metadata": {},
   "outputs": [],
   "source": [
    "labels = []\n",
    "for i in ids['train']:\n",
    "    labels.append( id2label[str(i)] )"
   ]
  },
  {
   "cell_type": "code",
   "execution_count": 63,
   "id": "166d39e3-292d-4d2d-b0f1-0b31a3791ee4",
   "metadata": {},
   "outputs": [
    {
     "data": {
      "text/plain": [
       "[]"
      ]
     },
     "execution_count": 63,
     "metadata": {},
     "output_type": "execute_result"
    },
    {
     "data": {
      "image/png": "[encoded data removed]",
      "text/plain": [
       "<Figure size 640x480 with 1 Axes>"
      ]
     },
     "metadata": {},
     "output_type": "display_data"
    }
   ],
   "source": [
    "fig, ax = plt.subplots()\n",
    "\n",
    "scatter = ax.scatter(X_embedded[idxs['train'],0], X_embedded[idxs['train'],1], marker='x', c=ids['train'], cmap='brg', alpha=0.8)\n",
    "scatter = ax.scatter(X_embedded[idxs['test'],0], X_embedded[idxs['test'],1], marker='o', c=ids['test'], cmap='brg')\n",
    "legends = ax.legend(*scatter.legend_elements(), loc=\"upper left\", title=\"Classes\")\n",
    "legends.get_frame().set_alpha(None)\n",
    "legends.get_frame().set_facecolor((0, 0.1, 0.1, 0.1))\n",
    "for i,t in enumerate(legends.get_texts()):\n",
    "    t.set_text( id2label[str(i)].replace('KaitiGkrey', 'Grei'))\n",
    "ax.add_artist(legends)\n",
    "ax.set_xticks([])\n",
    "ax.set_yticks([])"
   ]
  },
  {
   "cell_type": "code",
   "execution_count": 64,
   "id": "7494aff1-9339-439e-a0c2-a4b64c9c3fe5",
   "metadata": {},
   "outputs": [],
   "source": [
    "os.makedirs('figs', exist_ok=True)\n",
    "fig.savefig('figs/tsne_vowels.png', dpi=300)"
   ]
  },
  {
   "cell_type": "code",
   "execution_count": 68,
   "id": "b08ef2b5-f435-48ee-9176-ef1fa376a26a",
   "metadata": {},
   "outputs": [
    {
     "data": {
      "text/plain": [
       "<matplotlib.legend.Legend at 0x7f518792ac60>"
      ]
     },
     "execution_count": 68,
     "metadata": {},
     "output_type": "execute_result"
    },
    {
     "data": {
      "image/png": "[encoded data removed]",
      "text/plain": [
       "<Figure size 640x480 with 1 Axes>"
      ]
     },
     "metadata": {},
     "output_type": "display_data"
    }
   ],
   "source": [
    "fig, ax = plt.subplots()\n",
    "\n",
    "scatter = ax.scatter(X_PCA[idxs['train'],0], X_PCA[idxs['train'],1], marker='x', c=ids['train'], cmap='brg', alpha=0.8)\n",
    "scatter = ax.scatter(X_PCA[idxs['test'],0], X_PCA[idxs['test'],1], marker='o', c=ids['test'], cmap='brg')\n",
    "legends = ax.legend(*scatter.legend_elements(), loc=\"upper left\", title=\"Classes\")\n",
    "legends.get_frame().set_alpha(None)\n",
    "legends.get_frame().set_facecolor((0, 0.1, 0.1, 0.1))\n",
    "for i,t in enumerate(legends.get_texts()):\n",
    "    t.set_text( id2label[str(i)].replace('KaitiGkrey', 'Grei') )\n",
    "ax.add_artist(legends)"
   ]
  },
  {
   "cell_type": "code",
   "execution_count": 66,
   "id": "00ebf6fe-7066-4feb-b5e6-f1dc6e3a2784",
   "metadata": {},
   "outputs": [],
   "source": [
    "os.makedirs('figs', exist_ok=True)\n",
    "fig.savefig('figs/pca_vowels.png', dpi=300)"
   ]
  }
 ],
 "metadata": {
  "kernelspec": {
   "display_name": "Python 3 (ipykernel)",
   "language": "python",
   "name": "python3"
  },
  "language_info": {
   "codemirror_mode": {
    "name": "ipython",
    "version": 3
   },
   "file_extension": ".py",
   "mimetype": "text/x-python",
   "name": "python",
   "nbconvert_exporter": "python",
   "pygments_lexer": "ipython3",
   "version": "3.12.2"
  }
 },
 "nbformat": 4,
 "nbformat_minor": 5
}
